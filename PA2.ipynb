{
 "cells": [
  {
   "cell_type": "code",
   "execution_count": 113,
   "metadata": {},
   "outputs": [],
   "source": [
    "from IOHexperimenter import IOH_function, IOH_logger, IOHexperimenter\n",
    "import numpy as np\n",
    "import sys\n",
    "import heapq"
   ]
  },
  {
   "cell_type": "code",
   "execution_count": 118,
   "metadata": {},
   "outputs": [],
   "source": [
    "budget = 10000\n",
    "\n",
    "np.random.seed(123)\n",
    "\n",
    "# hyperparameters\n",
    "npop = 50 # population size \n",
    "beta = np.pi/36 # 5 degrees\n"
   ]
  },
  {
   "cell_type": "code",
   "execution_count": 31,
   "metadata": {},
   "outputs": [],
   "source": [
    "class dotdict(dict):\n",
    "    def __getattr__(self, name):\n",
    "        return self[name]"
   ]
  },
  {
   "cell_type": "code",
   "execution_count": null,
   "metadata": {},
   "outputs": [],
   "source": [
    "def ES_1(problem):\n",
    "    \"\"\"\n",
    "    This function uses:\n",
    "        - Global Sigma Mutation\n",
    "        - Intermediate Recombination\n",
    "        - (mu + lambda) selection\n",
    "    \"\"\"\n",
    "    n = problem.number_of_variables\n",
    "    \n",
    "    lr = 1/np.sqrt(n) # learning rate (tao 0)\n",
    "    lamda = npop * 7 # offspring population size\n",
    "    \n",
    "    fopt = -sys.maxsize-1\n",
    "    \n",
    "    # Initial Population samples uniformly distributed over the interval (boundaries)\n",
    "    P = np.random.uniform(low=problem.lowerbound[0],high=problem.upperbound[0], size=(npop, n))\n",
    "    \n",
    "    sigma = (problem.upperbound[0]-problem.lowerbound[0])/6 # Global Sigma initialization with feasible range\n",
    "    \n",
    "    # Fitness evaluation of the population\n",
    "    fitness = np.apply_along_axis(problem, 1, P)\n",
    "    \n",
    "    if np.max(fitness) >= fopt:\n",
    "        x_prime = P[np.argmax(fitness)]\n",
    "        fopt = np.max(fitness)\n",
    "    \n",
    "    \n",
    "    ## !! final_target_hit returns True if the optimum has been found.\n",
    "    ## !! evaluations returns the number of function evaluations has been done on the problem. \n",
    "    while not problem.final_target_hit and problem.evaluations < budget * n: \n",
    "        OP = [] # offspring population\n",
    "        \n",
    "        ### Intermediate Recombination\n",
    "        for i in range(lamda):\n",
    "            parent1 = P[np.random.choice(npop)]\n",
    "            parent2 = P[np.random.choice(npop)]\n",
    "            offspring = np.mean((parent1, parent2), axis=0)\n",
    "            OP.append(offspring)\n",
    "        \n",
    "        OP = np.array(OP) # Offspring population\n",
    "        OP_prime = []\n",
    "        \n",
    "        ### Mutation\n",
    "        for x_i in OP:\n",
    "            sigma_prime = sigma * np.exp(np.random.normal(0, lr))\n",
    "            x_i_prime = x_i + np.random.normal(0, sigma_prime) \n",
    "            OP_prime.append(x_i_prime)\n",
    "            \n",
    "        OP_prime = np.array(OP_prime)\n",
    "        \n",
    "        ### Evaluation of (OP_prime + P)\n",
    "        total_pop = np.append(P,OP_prime, axis=0)\n",
    "        fitness = np.apply_along_axis(problem, 1, total_pop)\n",
    "        if np.max(fitness) >= fopt:\n",
    "            x_prime = total_pop[np.argmax(fitness)]\n",
    "            fopt = np.max(fitness)\n",
    "            \n",
    "        ### Selection\n",
    "        top_fits = heapq.nlargest(npop, fitness)\n",
    "        sorter = np.argsort(fitness)\n",
    "        indices = sorter[np.searchsorted(fitness, top_fits, sorter=sorter)]\n",
    "        P = total_pop[indices]\n",
    "\n",
    "    return x_prime, fopt"
   ]
  },
  {
   "cell_type": "code",
   "execution_count": 114,
   "metadata": {},
   "outputs": [],
   "source": [
    "def ES_2(problem):\n",
    "    \"\"\"\n",
    "    This function uses:\n",
    "        - Individual Sigma Mutation\n",
    "        - Intermediate Recombination\n",
    "        - (mu + lambda) selection\n",
    "    \"\"\"\n",
    "    n = problem.number_of_variables\n",
    "    \n",
    "    tao_prime = 1/np.sqrt(2*n) # global learning rate\n",
    "    tao_0 = 1/np.sqrt(2*np.sqrt(n)) # local learning rate\n",
    "    \n",
    "    lamda = npop * 7 # offspring population size\n",
    "    \n",
    "    fopt = -sys.maxsize-1\n",
    "    \n",
    "    # Initial Population samples uniformly distributed over the interval (boundaries)\n",
    "    P = np.random.uniform(low=problem.lowerbound[0],high=problem.upperbound[0], size=(npop, n))\n",
    "    \n",
    "    sigmas = [(problem.upperbound[0]-problem.lowerbound[0])/6]*npop # Individual sigma initialization with feasible range\n",
    "    \n",
    "    # Fitness evaluation of the population\n",
    "    fitness = np.apply_along_axis(problem, 1, P)\n",
    "    \n",
    "    if np.max(fitness) >= fopt:\n",
    "        x_prime = P[np.argmax(fitness)]\n",
    "        fopt = np.max(fitness)\n",
    "    \n",
    "    \n",
    "    ## !! final_target_hit returns True if the optimum has been found.\n",
    "    ## !! evaluations returns the number of function evaluations has been done on the problem. \n",
    "    while not problem.final_target_hit and problem.evaluations < budget * n: \n",
    "        OP = [] # offspring population\n",
    "        \n",
    "        ### Intermediate Recombination\n",
    "        for i in range(lamda):\n",
    "            parent1 = P[np.random.choice(npop)]\n",
    "            parent2 = P[np.random.choice(npop)]\n",
    "            offspring = np.mean((parent1, parent2), axis=0)\n",
    "            OP.append(offspring)\n",
    "        \n",
    "        OP = np.array(OP) # Offspring population\n",
    "        OP_prime = []\n",
    "        sigmas_prime = []\n",
    "        \n",
    "        N_tao_prime = np.random.normal(0, tao_prime)\n",
    "        \n",
    "        ### Mutation\n",
    "        for x_i, sigma_i in zip(OP, sigmas):\n",
    "            sigma_i_prime = sigma_i * np.exp(N_tao_prime + np.random.normal(0, tao_0))\n",
    "            sigmas_prime.append(sigma_i_prime)\n",
    "            x_i_prime = x_i + np.random.normal(0, sigma_prime) \n",
    "            OP_prime.append(x_i_prime)\n",
    "            \n",
    "        OP_prime = np.array(OP_prime)\n",
    "        sigmas = sigmas_prime\n",
    "        \n",
    "        ### Evaluation of (OP_prime + P)\n",
    "        total_pop = np.append(P,OP_prime, axis=0)\n",
    "        fitness = np.apply_along_axis(problem, 1, total_pop)\n",
    "        if np.max(fitness) >= fopt:\n",
    "            x_prime = total_pop[np.argmax(fitness)]\n",
    "            fopt = np.max(fitness)\n",
    "            \n",
    "        ### Selection\n",
    "        top_fits = heapq.nlargest(npop, fitness)\n",
    "        sorter = np.argsort(fitness)\n",
    "        indices = sorter[np.searchsorted(fitness, top_fits, sorter=sorter)]\n",
    "        P = total_pop[indices]\n",
    "\n",
    "    return x_prime, fopt"
   ]
  },
  {
   "cell_type": "code",
   "execution_count": null,
   "metadata": {},
   "outputs": [],
   "source": [
    "def ES_3(problem):\n",
    "    \"\"\"\n",
    "    This function uses:\n",
    "        - Correlated Mutation\n",
    "        - Intermediate Recombination\n",
    "        - (mu, lambda) selection\n",
    "    \"\"\"\n",
    "    n = problem.number_of_variables\n",
    "    n_q = int(n*(n-1)/2)\n",
    "    \n",
    "    tao_prime = 1/np.sqrt(2*n) # global learning rate\n",
    "    tao_0 = 1/np.sqrt(2*np.sqrt(n)) # local learning rate \n",
    "    \n",
    "    lamda = npop * 7 # offspring population size\n",
    "    \n",
    "    fopt = -sys.maxsize-1\n",
    "    \n",
    "    # Initial Population samples uniformly distributed over the interval (boundaries)\n",
    "    P = np.random.uniform(low=problem.lowerbound[0],high=problem.upperbound[0], size=(npop, n)) \n",
    "    \n",
    "    alphas = np.random.uniform(low=-np.pi, high=np.pi, size=n_q) # rotation angles initialized\n",
    "    \n",
    "    OOB_correction = lambda x: x - 2*np.pi*(x/np.abs(x)) if np.abs(x) > np.pi else x # out of boundary correction function\n",
    "    \n",
    "    sigmas = [(problem.upperbound[0]-problem.lowerbound[0])/6]*npop # Individual sigma initialization with feasible range\n",
    "    \n",
    "    # Fitness evaluation of the population\n",
    "    fitness = np.apply_along_axis(problem, 1, P)\n",
    "    \n",
    "    if np.max(fitness) >= fopt:\n",
    "        x_prime = P[np.argmax(fitness)]\n",
    "        fopt = np.max(fitness)\n",
    "    \n",
    "    \n",
    "    ## !! final_target_hit returns True if the optimum has been found.\n",
    "    ## !! evaluations returns the number of function evaluations has been done on the problem. \n",
    "    while not problem.final_target_hit and problem.evaluations < budget * n: \n",
    "        OP = [] # offspring population\n",
    "        \n",
    "        ### Intermediate Recombination\n",
    "        for i in range(lamda):\n",
    "            parent1 = P[np.random.choice(npop)]\n",
    "            parent2 = P[np.random.choice(npop)]\n",
    "            offspring = np.mean((parent1, parent2), axis=0)\n",
    "            OP.append(offspring)\n",
    "        \n",
    "        OP = np.array(OP) # Offspring population\n",
    "        \n",
    "        N_tao_prime = np.random.normal(0, tao_prime)\n",
    "        \n",
    "        ### Mutation\n",
    "        # Step size update\n",
    "        sigmas_prime = [sigma * np.exp(N_tao_prime + np.random.normal(0, tao_0)) for sigma in sigmas]\n",
    "        \n",
    "        # Rotation angles update\n",
    "        alphas_prime = np.apply_along_axis(OOB_correction, 0, alphas + np.random.normal(0, beta, size=n_q))   \n",
    "        \n",
    "        # Correlation of steps sizes\n",
    "        for k in range(1,n-1):\n",
    "            n_i = n-k\n",
    "            n_ii = n\n",
    "            for i in range(1,k):\n",
    "                d1, d2 = sigmas_prime[n_i], sigmas_prime[n_ii]\n",
    "                print(n_q, alphas.shape, alphas_prime.shape) #alphas_prime[n_q])\n",
    "                sigmas_prime[n_ii] = d1*np.sin(alphas_prime[n_q]) + d2*np.cos(alphas_prime[n_q])\n",
    "                sigmas_prime[n_i] = d1*np.cos(alphas_prime[n_q]) - d2*np.sin(alphas_prime[n_q])\n",
    "                n_ii = n_ii-1\n",
    "                n_q = n_q-1\n",
    "                \n",
    "        OP_prime = []\n",
    "        for x_i, sigma_i in zip(OP, sigmas_prime):\n",
    "            x_i_prime = x_i + sigma_i*np.random.normal(0, sigma_i)\n",
    "            OP_prime.append(x_i_prime)  \n",
    "        OP_prime = np.array(OP_prime)\n",
    "        \n",
    "        \n",
    "        ### Evaluation of OP_prime\n",
    "        fitness = np.apply_along_axis(problem, 1, OP_prime)\n",
    "        if np.max(fitness) >= fopt:\n",
    "            x_prime = OP_prime[np.argmax(fitness)]\n",
    "            fopt = np.max(fitness)\n",
    "        \n",
    "        ### Selection\n",
    "        top_fits = heapq.nlargest(npop, fitness)\n",
    "        sorter = np.argsort(fitness)\n",
    "        indices = sorter[np.searchsorted(fitness, top_fits, sorter=sorter)]\n",
    "        P = OP_prime[indices]\n",
    "\n",
    "    return x_prime, fopt"
   ]
  },
  {
   "cell_type": "code",
   "execution_count": null,
   "metadata": {},
   "outputs": [],
   "source": [
    "if __name__ == '__main__':\n",
    "\n",
    "    ## Declarations of Ids, instances, and dimensions that the problems to be tested.\n",
    "    problem_id = range(1,25)\n",
    "    instance_id = range(1,26)\n",
    "    dimension = [2,5,20]\n",
    "\n",
    "    ## Declariation of IOHprofiler_csv_logger.\n",
    "    ## 'result' is the name of output folder.\n",
    "    ## 'studentname1_studentname2' represents algorithm name and algorithm info, which will be caption of the algorithm in IOHanalyzer.\n",
    "    logger = IOH_logger(\"./\", \"result\", \"likhi_bozik\", \"likhi_bozik\")\n",
    "\n",
    "    for p_id in problem_id :\n",
    "        for d in dimension :\n",
    "            for i_id in instance_id:\n",
    "                ## Getting the problem with corresponding id,dimension, and instance.\n",
    "                f = IOH_function(p_id, d, i_id, suite=\"BBOB\")\n",
    "                f.add_logger(logger)\n",
    "                xopt, fopt = likhi_bozik_ES(f)\n",
    "    logger.clear_logger()\n"
   ]
  },
  {
   "cell_type": "code",
   "execution_count": 3,
   "metadata": {},
   "outputs": [],
   "source": [
    "f = IOH_function(1, 2, 1, suite=\"BBOB\")"
   ]
  },
  {
   "cell_type": "code",
   "execution_count": 4,
   "metadata": {},
   "outputs": [
    {
     "data": {
      "text/plain": [
       "79.48"
      ]
     },
     "execution_count": 4,
     "metadata": {},
     "output_type": "execute_result"
    }
   ],
   "source": [
    "f.get_target()"
   ]
  },
  {
   "cell_type": "code",
   "execution_count": 19,
   "metadata": {},
   "outputs": [
    {
     "name": "stdout",
     "output_type": "stream",
     "text": [
      "-5.0 [5. 5.]\n"
     ]
    }
   ],
   "source": [
    "print(f.lowerbound[0], f.upperbound)"
   ]
  },
  {
   "cell_type": "code",
   "execution_count": 16,
   "metadata": {},
   "outputs": [
    {
     "data": {
      "text/plain": [
       "2"
      ]
     },
     "execution_count": 16,
     "metadata": {},
     "output_type": "execute_result"
    }
   ],
   "source": [
    "f.number_of_variables"
   ]
  },
  {
   "cell_type": "code",
   "execution_count": 17,
   "metadata": {},
   "outputs": [
    {
     "data": {
      "text/plain": [
       "array([ 4.39690233, -0.82439361])"
      ]
     },
     "execution_count": 17,
     "metadata": {},
     "output_type": "execute_result"
    }
   ],
   "source": [
    "x = np.random.rand(f.number_of_variables) * 10 - 5\n",
    "x"
   ]
  },
  {
   "cell_type": "code",
   "execution_count": 18,
   "metadata": {},
   "outputs": [
    {
     "data": {
      "text/plain": [
       "96.76407811513423"
      ]
     },
     "execution_count": 18,
     "metadata": {},
     "output_type": "execute_result"
    }
   ],
   "source": [
    "f(x)"
   ]
  },
  {
   "cell_type": "code",
   "execution_count": 29,
   "metadata": {},
   "outputs": [],
   "source": [
    "p = np.random.uniform(low=f.lowerbound[0],high=f.upperbound[0], size=(5,f.number_of_variables))"
   ]
  },
  {
   "cell_type": "code",
   "execution_count": 30,
   "metadata": {},
   "outputs": [
    {
     "data": {
      "text/plain": [
       "array([ 83.37451803,  91.17468502,  83.40137455, 109.2571958 ,\n",
       "        79.68275551])"
      ]
     },
     "execution_count": 30,
     "metadata": {},
     "output_type": "execute_result"
    }
   ],
   "source": [
    "np.apply_along_axis(f, 1, p)"
   ]
  },
  {
   "cell_type": "code",
   "execution_count": 32,
   "metadata": {},
   "outputs": [],
   "source": [
    "p = dotdict()"
   ]
  },
  {
   "cell_type": "code",
   "execution_count": 39,
   "metadata": {},
   "outputs": [],
   "source": [
    "p = [dotdict({'individual':[0.12, -4.54], 'strategy':[0.1, 32]}), \n",
    "     dotdict({'individual':[3.12, -1.54], 'strategy':[0.3, 2]})]"
   ]
  },
  {
   "cell_type": "code",
   "execution_count": 40,
   "metadata": {},
   "outputs": [
    {
     "data": {
      "text/plain": [
       "[{'individual': [0.12, -4.54], 'strategy': [0.1, 32]},\n",
       " {'individual': [3.12, -1.54], 'strategy': [0.3, 2]}]"
      ]
     },
     "execution_count": 40,
     "metadata": {},
     "output_type": "execute_result"
    }
   ],
   "source": [
    "p"
   ]
  },
  {
   "cell_type": "code",
   "execution_count": 42,
   "metadata": {},
   "outputs": [
    {
     "data": {
      "text/plain": [
       "[0.12, -4.54]"
      ]
     },
     "execution_count": 42,
     "metadata": {},
     "output_type": "execute_result"
    }
   ],
   "source": [
    "p[0].individual"
   ]
  },
  {
   "cell_type": "code",
   "execution_count": 43,
   "metadata": {},
   "outputs": [
    {
     "data": {
      "text/plain": [
       "[0.1, 32]"
      ]
     },
     "execution_count": 43,
     "metadata": {},
     "output_type": "execute_result"
    }
   ],
   "source": [
    "p[0].strategy"
   ]
  },
  {
   "cell_type": "code",
   "execution_count": 56,
   "metadata": {},
   "outputs": [
    {
     "data": {
      "text/plain": [
       "27"
      ]
     },
     "execution_count": 56,
     "metadata": {},
     "output_type": "execute_result"
    }
   ],
   "source": [
    "np.random.choice(50)"
   ]
  },
  {
   "cell_type": "code",
   "execution_count": 82,
   "metadata": {},
   "outputs": [],
   "source": [
    "P1 = np.random.uniform(low=f.lowerbound[0],high=f.upperbound[0], size=(5, 2))\n",
    "\n",
    "P2 = np.random.uniform(low=f.lowerbound[0],high=f.upperbound[0], size=(5, 2))"
   ]
  },
  {
   "cell_type": "code",
   "execution_count": 83,
   "metadata": {},
   "outputs": [
    {
     "data": {
      "text/plain": [
       "(array([[-1.36895933,  3.54972816],\n",
       "        [ 2.11391802, -1.07055589],\n",
       "        [-2.68698519, -1.19825286],\n",
       "        [ 0.49162103,  0.56719065],\n",
       "        [-4.95865357,  1.38022518]]),\n",
       " array([[-4.42351985, -4.56973093],\n",
       "        [ 3.75051134, -2.07412396],\n",
       "        [ 2.62767659, -1.3213474 ],\n",
       "        [ 3.73502266, -4.70576266],\n",
       "        [ 0.52043722, -2.59752496]]))"
      ]
     },
     "execution_count": 83,
     "metadata": {},
     "output_type": "execute_result"
    }
   ],
   "source": [
    "P1, P2"
   ]
  },
  {
   "cell_type": "code",
   "execution_count": 87,
   "metadata": {},
   "outputs": [
    {
     "data": {
      "text/plain": [
       "array([[-1.36895933,  3.54972816],\n",
       "       [ 2.11391802, -1.07055589],\n",
       "       [-2.68698519, -1.19825286],\n",
       "       [ 0.49162103,  0.56719065],\n",
       "       [-4.95865357,  1.38022518],\n",
       "       [-4.42351985, -4.56973093],\n",
       "       [ 3.75051134, -2.07412396],\n",
       "       [ 2.62767659, -1.3213474 ],\n",
       "       [ 3.73502266, -4.70576266],\n",
       "       [ 0.52043722, -2.59752496]])"
      ]
     },
     "execution_count": 87,
     "metadata": {},
     "output_type": "execute_result"
    }
   ],
   "source": [
    "np.append(P1,P2, axis=0)"
   ]
  },
  {
   "cell_type": "code",
   "execution_count": 70,
   "metadata": {},
   "outputs": [
    {
     "name": "stdout",
     "output_type": "stream",
     "text": [
      "[-2.65487125  4.87995287] [3.898657   2.50378705]\n"
     ]
    }
   ],
   "source": [
    "parent1 = P[np.random.choice(5)]\n",
    "parent2 = P[np.random.choice(5)]\n",
    "print(parent1, parent2)"
   ]
  },
  {
   "cell_type": "code",
   "execution_count": 71,
   "metadata": {},
   "outputs": [
    {
     "data": {
      "text/plain": [
       "array([0.62189287, 3.69186996])"
      ]
     },
     "execution_count": 71,
     "metadata": {},
     "output_type": "execute_result"
    }
   ],
   "source": [
    "offspring = np.mean((parent1, parent2), axis=0)\n",
    "offspring"
   ]
  },
  {
   "cell_type": "code",
   "execution_count": 72,
   "metadata": {},
   "outputs": [
    {
     "data": {
      "text/plain": [
       "0.6218928750000001"
      ]
     },
     "execution_count": 72,
     "metadata": {},
     "output_type": "execute_result"
    }
   ],
   "source": [
    "(-2.65487125 + 3.898657)/2"
   ]
  },
  {
   "cell_type": "code",
   "execution_count": 88,
   "metadata": {},
   "outputs": [
    {
     "data": {
      "text/plain": [
       "array([[-1.36895933,  3.54972816],\n",
       "       [ 2.11391802, -1.07055589],\n",
       "       [-2.68698519, -1.19825286],\n",
       "       [ 0.49162103,  0.56719065],\n",
       "       [-4.95865357,  1.38022518]])"
      ]
     },
     "execution_count": 88,
     "metadata": {},
     "output_type": "execute_result"
    }
   ],
   "source": [
    "P1"
   ]
  },
  {
   "cell_type": "code",
   "execution_count": 89,
   "metadata": {},
   "outputs": [
    {
     "name": "stdout",
     "output_type": "stream",
     "text": [
      "[-1.36895933  3.54972816]\n",
      "[ 2.11391802 -1.07055589]\n",
      "[-2.68698519 -1.19825286]\n",
      "[0.49162103 0.56719065]\n",
      "[-4.95865357  1.38022518]\n"
     ]
    }
   ],
   "source": [
    "for i in P1:\n",
    "    print(i)"
   ]
  },
  {
   "cell_type": "code",
   "execution_count": 91,
   "metadata": {},
   "outputs": [
    {
     "data": {
      "text/plain": [
       "0.7071067811865475"
      ]
     },
     "execution_count": 91,
     "metadata": {},
     "output_type": "execute_result"
    }
   ],
   "source": [
    "lr = 1/np.sqrt(2)\n",
    "lr"
   ]
  },
  {
   "cell_type": "code",
   "execution_count": 98,
   "metadata": {},
   "outputs": [
    {
     "data": {
      "text/plain": [
       "2.038795352227467"
      ]
     },
     "execution_count": 98,
     "metadata": {},
     "output_type": "execute_result"
    }
   ],
   "source": [
    "np.exp(np.random.normal(0, lr))"
   ]
  },
  {
   "cell_type": "code",
   "execution_count": 97,
   "metadata": {},
   "outputs": [
    {
     "data": {
      "text/plain": [
       "0.9174369416643127"
      ]
     },
     "execution_count": 97,
     "metadata": {},
     "output_type": "execute_result"
    }
   ],
   "source": [
    "np.random.normal(0, lr)"
   ]
  },
  {
   "cell_type": "code",
   "execution_count": 99,
   "metadata": {},
   "outputs": [],
   "source": [
    "import heapq"
   ]
  },
  {
   "cell_type": "code",
   "execution_count": 103,
   "metadata": {},
   "outputs": [
    {
     "data": {
      "text/plain": [
       "array([[-1.36895933,  3.54972816],\n",
       "       [ 2.11391802, -1.07055589],\n",
       "       [-2.68698519, -1.19825286],\n",
       "       [ 0.49162103,  0.56719065],\n",
       "       [-4.95865357,  1.38022518]])"
      ]
     },
     "execution_count": 103,
     "metadata": {},
     "output_type": "execute_result"
    }
   ],
   "source": [
    "P1"
   ]
  },
  {
   "cell_type": "code",
   "execution_count": 104,
   "metadata": {},
   "outputs": [
    {
     "data": {
      "text/plain": [
       "array([104.26151062,  82.95119832,  88.12405528,  82.50917923,\n",
       "       113.0757451 ])"
      ]
     },
     "execution_count": 104,
     "metadata": {},
     "output_type": "execute_result"
    }
   ],
   "source": [
    "f1 = np.apply_along_axis(f, 1, P1)\n",
    "f1"
   ]
  },
  {
   "cell_type": "code",
   "execution_count": 105,
   "metadata": {},
   "outputs": [
    {
     "data": {
      "text/plain": [
       "[113.07574509619684, 104.26151062275416, 88.12405528432528]"
      ]
     },
     "execution_count": 105,
     "metadata": {},
     "output_type": "execute_result"
    }
   ],
   "source": [
    "heapq.nlargest(3, f1)"
   ]
  },
  {
   "cell_type": "code",
   "execution_count": 111,
   "metadata": {},
   "outputs": [
    {
     "data": {
      "text/plain": [
       "array([4, 0, 2])"
      ]
     },
     "execution_count": 111,
     "metadata": {},
     "output_type": "execute_result"
    }
   ],
   "source": [
    "sorter = np.argsort(f1)\n",
    "sorter[np.searchsorted(f1, heapq.nlargest(3, f1), sorter=sorter)]"
   ]
  },
  {
   "cell_type": "code",
   "execution_count": 110,
   "metadata": {},
   "outputs": [
    {
     "data": {
      "text/plain": [
       "array([3, 1, 0])"
      ]
     },
     "execution_count": 110,
     "metadata": {},
     "output_type": "execute_result"
    }
   ],
   "source": [
    "a = np.array([1, 2, 4])\n",
    "b = np.array([4, 2, 3, 1])\n",
    "sorter = np.argsort(b)\n",
    "sorter[np.searchsorted(b, a, sorter=sorter)]"
   ]
  },
  {
   "cell_type": "code",
   "execution_count": 112,
   "metadata": {},
   "outputs": [
    {
     "data": {
      "text/plain": [
       "array([1, 2, 4])"
      ]
     },
     "execution_count": 112,
     "metadata": {},
     "output_type": "execute_result"
    }
   ],
   "source": [
    "b[[3,1,0]]"
   ]
  },
  {
   "cell_type": "code",
   "execution_count": 120,
   "metadata": {},
   "outputs": [],
   "source": [
    "n = f.number_of_variables"
   ]
  },
  {
   "cell_type": "code",
   "execution_count": 145,
   "metadata": {},
   "outputs": [],
   "source": [
    "n = 3\n",
    "beta = np.pi/36"
   ]
  },
  {
   "cell_type": "code",
   "execution_count": 147,
   "metadata": {},
   "outputs": [
    {
     "data": {
      "text/plain": [
       "array([-1.13872413,  1.20618494,  0.34170004])"
      ]
     },
     "execution_count": 147,
     "metadata": {},
     "output_type": "execute_result"
    }
   ],
   "source": [
    "alphas = np.random.uniform(low=-np.pi, high=np.pi, size=int(n*(n-1)/2))\n",
    "alphas"
   ]
  },
  {
   "cell_type": "code",
   "execution_count": 150,
   "metadata": {},
   "outputs": [
    {
     "data": {
      "text/plain": [
       "array([-0.00582568, -0.01361914,  0.13818337])"
      ]
     },
     "execution_count": 150,
     "metadata": {},
     "output_type": "execute_result"
    }
   ],
   "source": [
    "samples = np.random.normal(0, beta, size=int(n*(n-1)/2))\n",
    "samples"
   ]
  },
  {
   "cell_type": "code",
   "execution_count": 151,
   "metadata": {},
   "outputs": [
    {
     "data": {
      "text/plain": [
       "array([-1.14454981,  1.1925658 ,  0.4798834 ])"
      ]
     },
     "execution_count": 151,
     "metadata": {},
     "output_type": "execute_result"
    }
   ],
   "source": [
    "alphas + samples"
   ]
  },
  {
   "cell_type": "code",
   "execution_count": 158,
   "metadata": {},
   "outputs": [],
   "source": [
    "func = lambda x: x - 1"
   ]
  },
  {
   "cell_type": "code",
   "execution_count": 159,
   "metadata": {},
   "outputs": [
    {
     "data": {
      "text/plain": [
       "array([-2.14454981,  0.1925658 , -0.5201166 ])"
      ]
     },
     "execution_count": 159,
     "metadata": {},
     "output_type": "execute_result"
    }
   ],
   "source": [
    "np.apply_along_axis(func, 0, alphas + samples)"
   ]
  },
  {
   "cell_type": "code",
   "execution_count": 167,
   "metadata": {},
   "outputs": [],
   "source": [
    "func2 = lambda x: x - 2*np.pi*(x/np.abs(x)) if np.abs(x) > np.pi else x"
   ]
  },
  {
   "cell_type": "code",
   "execution_count": 168,
   "metadata": {},
   "outputs": [
    {
     "data": {
      "text/plain": [
       "-2.7831853071795862"
      ]
     },
     "execution_count": 168,
     "metadata": {},
     "output_type": "execute_result"
    }
   ],
   "source": [
    "func2(3.5)"
   ]
  },
  {
   "cell_type": "code",
   "execution_count": 169,
   "metadata": {},
   "outputs": [
    {
     "data": {
      "text/plain": [
       "3.141592653589793"
      ]
     },
     "execution_count": 169,
     "metadata": {},
     "output_type": "execute_result"
    }
   ],
   "source": [
    "np.pi"
   ]
  },
  {
   "cell_type": "code",
   "execution_count": 170,
   "metadata": {},
   "outputs": [
    {
     "data": {
      "text/plain": [
       "True"
      ]
     },
     "execution_count": 170,
     "metadata": {},
     "output_type": "execute_result"
    }
   ],
   "source": [
    "np.abs(3.5) > np.pi"
   ]
  },
  {
   "cell_type": "code",
   "execution_count": 171,
   "metadata": {},
   "outputs": [
    {
     "data": {
      "text/plain": [
       "-18.491148575128552"
      ]
     },
     "execution_count": 171,
     "metadata": {},
     "output_type": "execute_result"
    }
   ],
   "source": [
    "3.5 - 2*np.pi*3.5"
   ]
  },
  {
   "cell_type": "code",
   "execution_count": 179,
   "metadata": {},
   "outputs": [
    {
     "name": "stdout",
     "output_type": "stream",
     "text": [
      "1\n",
      "2\n"
     ]
    }
   ],
   "source": [
    "for i in range(1,n):\n",
    "    print(i)"
   ]
  },
  {
   "cell_type": "code",
   "execution_count": 178,
   "metadata": {},
   "outputs": [
    {
     "data": {
      "text/plain": [
       "3"
      ]
     },
     "execution_count": 178,
     "metadata": {},
     "output_type": "execute_result"
    }
   ],
   "source": [
    "n"
   ]
  },
  {
   "cell_type": "code",
   "execution_count": null,
   "metadata": {},
   "outputs": [],
   "source": []
  }
 ],
 "metadata": {
  "kernelspec": {
   "display_name": "ea",
   "language": "python",
   "name": "ea"
  },
  "language_info": {
   "codemirror_mode": {
    "name": "ipython",
    "version": 3
   },
   "file_extension": ".py",
   "mimetype": "text/x-python",
   "name": "python",
   "nbconvert_exporter": "python",
   "pygments_lexer": "ipython3",
   "version": "3.7.7"
  }
 },
 "nbformat": 4,
 "nbformat_minor": 4
}
