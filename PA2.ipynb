{
 "cells": [
  {
   "cell_type": "code",
   "execution_count": 1,
   "metadata": {},
   "outputs": [],
   "source": [
    "from IOHexperimenter import IOH_function, IOH_logger, IOHexperimenter\n",
    "import numpy as np\n",
    "import sys\n",
    "import heapq"
   ]
  },
  {
   "cell_type": "code",
   "execution_count": 2,
   "metadata": {},
   "outputs": [],
   "source": [
    "budget = 10000\n",
    "\n",
    "np.random.seed(123)\n",
    "\n",
    "# hyperparameters\n",
    "npop = 50 # population size \n",
    "beta = np.pi/36 # 5 degrees\n"
   ]
  },
  {
   "cell_type": "code",
   "execution_count": 31,
   "metadata": {},
   "outputs": [],
   "source": [
    "class dotdict(dict):\n",
    "    def __getattr__(self, name):\n",
    "        return self[name]"
   ]
  },
  {
   "cell_type": "code",
   "execution_count": 3,
   "metadata": {},
   "outputs": [],
   "source": [
    "def ES_1(problem):\n",
    "    \"\"\"\n",
    "    This function uses:\n",
    "        - Global Sigma Mutation\n",
    "        - Intermediate Recombination\n",
    "        - (mu + lambda) selection\n",
    "    \"\"\"\n",
    "    n = problem.number_of_variables\n",
    "    \n",
    "    lr = 1/np.sqrt(n) # learning rate (tao 0)\n",
    "    lamda = npop * 7 # offspring population size\n",
    "    \n",
    "    fopt = -sys.maxsize-1\n",
    "    \n",
    "    # Initial Population samples uniformly distributed over the interval (boundaries)\n",
    "    P = np.random.uniform(low=problem.lowerbound[0],high=problem.upperbound[0], size=(npop, n))\n",
    "    \n",
    "    sigma = (problem.upperbound[0]-problem.lowerbound[0])/6 # Global Sigma initialization with feasible range\n",
    "    \n",
    "    # Fitness evaluation of the population\n",
    "    fitness = np.apply_along_axis(problem, 1, P)\n",
    "    \n",
    "    if np.max(fitness) >= fopt:\n",
    "        x_prime = P[np.argmax(fitness)]\n",
    "        fopt = np.max(fitness)\n",
    "    \n",
    "    \n",
    "    ## !! final_target_hit returns True if the optimum has been found.\n",
    "    ## !! evaluations returns the number of function evaluations has been done on the problem. \n",
    "    while not problem.final_target_hit and problem.evaluations < budget * n: \n",
    "        OP = [] # offspring population\n",
    "        \n",
    "        ### Intermediate Recombination\n",
    "        for i in range(lamda):\n",
    "            parent1 = P[np.random.choice(npop)]\n",
    "            parent2 = P[np.random.choice(npop)]\n",
    "            offspring = np.mean((parent1, parent2), axis=0)\n",
    "            OP.append(offspring)\n",
    "        \n",
    "        OP = np.array(OP) # Offspring population\n",
    "        OP_prime = []\n",
    "        \n",
    "        ### Mutation\n",
    "        for x_i in OP:\n",
    "            sigma_prime = sigma * np.exp(np.random.normal(0, lr))\n",
    "            x_i_prime = x_i + np.random.normal(0, sigma_prime) \n",
    "            OP_prime.append(x_i_prime)\n",
    "            \n",
    "        OP_prime = np.array(OP_prime)\n",
    "        \n",
    "        ### Evaluation of (OP_prime + P)\n",
    "        total_pop = np.append(P,OP_prime, axis=0)\n",
    "        fitness = np.apply_along_axis(problem, 1, total_pop)\n",
    "        if np.max(fitness) >= fopt:\n",
    "            x_prime = total_pop[np.argmax(fitness)]\n",
    "            fopt = np.max(fitness)\n",
    "            \n",
    "        ### Selection\n",
    "        top_fits = heapq.nlargest(npop, fitness)\n",
    "        sorter = np.argsort(fitness)\n",
    "        indices = sorter[np.searchsorted(fitness, top_fits, sorter=sorter)]\n",
    "        P = total_pop[indices]\n",
    "\n",
    "    return x_prime, fopt"
   ]
  },
  {
   "cell_type": "code",
   "execution_count": 114,
   "metadata": {},
   "outputs": [],
   "source": [
    "def ES_2(problem):\n",
    "    \"\"\"\n",
    "    This function uses:\n",
    "        - Individual Sigma Mutation\n",
    "        - Intermediate Recombination\n",
    "        - (mu + lambda) selection\n",
    "    \"\"\"\n",
    "    n = problem.number_of_variables\n",
    "    \n",
    "    tao_prime = 1/np.sqrt(2*n) # global learning rate\n",
    "    tao_0 = 1/np.sqrt(2*np.sqrt(n)) # local learning rate\n",
    "    \n",
    "    lamda = npop * 7 # offspring population size\n",
    "    \n",
    "    fopt = -sys.maxsize-1\n",
    "    \n",
    "    # Initial Population samples uniformly distributed over the interval (boundaries)\n",
    "    P = np.random.uniform(low=problem.lowerbound[0],high=problem.upperbound[0], size=(npop, n))\n",
    "    \n",
    "    sigmas = [(problem.upperbound[0]-problem.lowerbound[0])/6]*npop # Individual sigma initialization with feasible range\n",
    "    \n",
    "    # Fitness evaluation of the population\n",
    "    fitness = np.apply_along_axis(problem, 1, P)\n",
    "    \n",
    "    if np.max(fitness) >= fopt:\n",
    "        x_prime = P[np.argmax(fitness)]\n",
    "        fopt = np.max(fitness)\n",
    "    \n",
    "    \n",
    "    ## !! final_target_hit returns True if the optimum has been found.\n",
    "    ## !! evaluations returns the number of function evaluations has been done on the problem. \n",
    "    while not problem.final_target_hit and problem.evaluations < budget * n: \n",
    "        OP = [] # offspring population\n",
    "        \n",
    "        ### Intermediate Recombination\n",
    "        for i in range(lamda):\n",
    "            parent1 = P[np.random.choice(npop)]\n",
    "            parent2 = P[np.random.choice(npop)]\n",
    "            offspring = np.mean((parent1, parent2), axis=0)\n",
    "            OP.append(offspring)\n",
    "        \n",
    "        OP = np.array(OP) # Offspring population\n",
    "        OP_prime = []\n",
    "        sigmas_prime = []\n",
    "        \n",
    "        N_tao_prime = np.random.normal(0, tao_prime)\n",
    "        \n",
    "        ### Mutation\n",
    "        for x_i, sigma_i in zip(OP, sigmas):\n",
    "            sigma_i_prime = sigma_i * np.exp(N_tao_prime + np.random.normal(0, tao_0))\n",
    "            sigmas_prime.append(sigma_i_prime)\n",
    "            x_i_prime = x_i + np.random.normal(0, sigma_prime) \n",
    "            OP_prime.append(x_i_prime)\n",
    "            \n",
    "        OP_prime = np.array(OP_prime)\n",
    "        sigmas = sigmas_prime\n",
    "        \n",
    "        ### Evaluation of (OP_prime + P)\n",
    "        total_pop = np.append(P,OP_prime, axis=0)\n",
    "        fitness = np.apply_along_axis(problem, 1, total_pop)\n",
    "        if np.max(fitness) >= fopt:\n",
    "            x_prime = total_pop[np.argmax(fitness)]\n",
    "            fopt = np.max(fitness)\n",
    "            \n",
    "        ### Selection\n",
    "        top_fits = heapq.nlargest(npop, fitness)\n",
    "        sorter = np.argsort(fitness)\n",
    "        indices = sorter[np.searchsorted(fitness, top_fits, sorter=sorter)]\n",
    "        P = total_pop[indices]\n",
    "\n",
    "    return x_prime, fopt"
   ]
  },
  {
   "cell_type": "code",
   "execution_count": null,
   "metadata": {},
   "outputs": [],
   "source": [
    "def ES_3(problem):\n",
    "    \"\"\"\n",
    "    This function uses:\n",
    "        - Correlated Mutation\n",
    "        - Intermediate Recombination\n",
    "        - (mu, lambda) selection\n",
    "    \"\"\"\n",
    "    n = problem.number_of_variables\n",
    "    n_q = int(n * (n - 1) / 2)\n",
    "\n",
    "    tao_prime = 1 / np.sqrt(2 * n)  # global learning rate\n",
    "    tao_0 = 1 / np.sqrt(2 * np.sqrt(n))  # local learning rate\n",
    "\n",
    "    lamda = npop * 7  # offspring population size\n",
    "\n",
    "    fopt = -sys.maxsize - 1\n",
    "\n",
    "    # Initial Population samples uniformly distributed over the interval (boundaries)\n",
    "    P = np.random.uniform(low=problem.lowerbound[0], high=problem.upperbound[0], size=(npop, n))\n",
    "\n",
    "    alphas = np.random.uniform(low=-np.pi, high=np.pi, size=n_q)  # rotation angles initialized\n",
    "\n",
    "    OOB_correction = lambda x: x - 2*np.pi*(x / np.abs(x)) if (np.abs(x) > np.pi).any() else x  # out of boundary correction function\n",
    "\n",
    "    sigmas = [(problem.upperbound[0] - problem.lowerbound[0]) / 6] * npop  # Individual sigma initialization with feasible range\n",
    "\n",
    "    # Fitness evaluation of the population\n",
    "    fitness = -1 * np.apply_along_axis(problem, 1, P)\n",
    "\n",
    "    if np.max(fitness) >= fopt:\n",
    "        x_prime = P[np.argmax(fitness)]\n",
    "        fopt = np.max(fitness)\n",
    "\n",
    "    ## !! final_target_hit returns True if the optimum has been found.\n",
    "    ## !! evaluations returns the number of function evaluations has been done on the problem.\n",
    "    while not problem.final_target_hit and problem.evaluations < budget * n:\n",
    "        OP = []  # offspring population\n",
    "        n_q = int(n * (n - 1) / 2)\n",
    "        ### Intermediate Recombination\n",
    "        for i in range(lamda):\n",
    "            parent1 = P[np.random.choice(npop)]\n",
    "            parent2 = P[np.random.choice(npop)]\n",
    "            offspring = np.mean((parent1, parent2), axis=0)\n",
    "            OP.append(offspring)\n",
    "\n",
    "        OP = np.array(OP)  # Offspring population\n",
    "\n",
    "        N_tao_prime = np.random.normal(0, tao_prime)\n",
    "\n",
    "        ### Mutation\n",
    "        # Step size update\n",
    "        sigmas_prime = [sigma * np.exp(N_tao_prime + np.random.normal(0, tao_0)) for sigma in sigmas]\n",
    "\n",
    "        # Rotation angles update\n",
    "\n",
    "        alphas_prime = np.apply_along_axis(OOB_correction, 0, alphas + np.random.normal(0, beta, size=n_q))\n",
    "\n",
    "        \n",
    "\n",
    "        # Correlation of steps sizes\n",
    "        s = np.zeros(n)\n",
    "        for n_i in range(n):\n",
    "            s[n_i] = sigmas_prime[n_i] * np.random.normal(0, 1)  # uncorrelated mutation vector initialization\n",
    "        \n",
    "        for k in range(1, n):\n",
    "            n_i = n-1 - k\n",
    "            n_ii = n-1\n",
    "            for i in range(1, k+1):\n",
    "                d1, d2 = s[n_i], s[n_ii]\n",
    "                s[n_ii] = d1 * np.sin(alphas_prime[n_q-1]) + d2 * np.cos(alphas_prime[n_q-1])\n",
    "                s[n_i] = d1 * np.cos(alphas_prime[n_q-1]) - d2 * np.sin(alphas_prime[n_q-1])\n",
    "                n_ii = n_ii - 1\n",
    "                n_q = n_q - 1\n",
    "\n",
    "        OP_prime = []\n",
    "        for x_i, sigma_i in zip(OP, sigmas_prime):\n",
    "            x_i_prime = x_i + sigma_i * s\n",
    "            OP_prime.append(x_i_prime)\n",
    "        OP_prime = np.array(OP_prime)\n",
    "\n",
    "        ### Evaluation of OP_prime\n",
    "        fitness = -1 * np.apply_along_axis(problem, 1, OP_prime)\n",
    "        if np.max(fitness) >= fopt:\n",
    "            x_prime = OP_prime[np.argmax(fitness)]\n",
    "            fopt = np.max(fitness)\n",
    "\n",
    "        ### Selection\n",
    "        top_fits = heapq.nlargest(npop, fitness)\n",
    "        sorter = np.argsort(fitness)\n",
    "        indices = sorter[np.searchsorted(fitness, top_fits, sorter=sorter)]\n",
    "        P = OP_prime[indices]\n",
    "\n",
    "    return x_prime, fopt"
   ]
  },
  {
   "cell_type": "code",
   "execution_count": null,
   "metadata": {},
   "outputs": [],
   "source": [
    "if __name__ == '__main__':\n",
    "\n",
    "    ## Declarations of Ids, instances, and dimensions that the problems to be tested.\n",
    "    problem_id = range(1,25)\n",
    "    instance_id = range(1,26)\n",
    "    dimension = [2,5,20]\n",
    "\n",
    "    ## Declariation of IOHprofiler_csv_logger.\n",
    "    ## 'result' is the name of output folder.\n",
    "    ## 'studentname1_studentname2' represents algorithm name and algorithm info, which will be caption of the algorithm in IOHanalyzer.\n",
    "    logger = IOH_logger(\"./\", \"result\", \"likhi_bozik\", \"likhi_bozik\")\n",
    "\n",
    "    for p_id in problem_id :\n",
    "        for d in dimension :\n",
    "            for i_id in instance_id:\n",
    "                ## Getting the problem with corresponding id,dimension, and instance.\n",
    "                f = IOH_function(p_id, d, i_id, suite=\"BBOB\")\n",
    "                f.add_logger(logger)\n",
    "                xopt, fopt = likhi_bozik_ES(f)\n",
    "    logger.clear_logger()\n"
   ]
  },
  {
   "cell_type": "code",
   "execution_count": 4,
   "metadata": {},
   "outputs": [],
   "source": [
    "f = IOH_function(1, 2, 1, suite=\"BBOB\")"
   ]
  },
  {
   "cell_type": "code",
   "execution_count": 5,
   "metadata": {},
   "outputs": [
    {
     "data": {
      "text/plain": [
       "79.48"
      ]
     },
     "execution_count": 5,
     "metadata": {},
     "output_type": "execute_result"
    }
   ],
   "source": [
    "f.get_target()"
   ]
  },
  {
   "cell_type": "code",
   "execution_count": 6,
   "metadata": {},
   "outputs": [
    {
     "name": "stdout",
     "output_type": "stream",
     "text": [
      "-5.0 [5. 5.]\n"
     ]
    }
   ],
   "source": [
    "print(f.lowerbound[0], f.upperbound)"
   ]
  },
  {
   "cell_type": "code",
   "execution_count": 7,
   "metadata": {},
   "outputs": [
    {
     "data": {
      "text/plain": [
       "2"
      ]
     },
     "execution_count": 7,
     "metadata": {},
     "output_type": "execute_result"
    }
   ],
   "source": [
    "f.number_of_variables"
   ]
  },
  {
   "cell_type": "code",
   "execution_count": 8,
   "metadata": {},
   "outputs": [
    {
     "data": {
      "text/plain": [
       "array([ 1.96469186, -2.13860665])"
      ]
     },
     "execution_count": 8,
     "metadata": {},
     "output_type": "execute_result"
    }
   ],
   "source": [
    "x = np.random.rand(f.number_of_variables) * 10 - 5\n",
    "x"
   ]
  },
  {
   "cell_type": "code",
   "execution_count": 9,
   "metadata": {},
   "outputs": [
    {
     "data": {
      "text/plain": [
       "83.3745180255245"
      ]
     },
     "execution_count": 9,
     "metadata": {},
     "output_type": "execute_result"
    }
   ],
   "source": [
    "f(x)"
   ]
  },
  {
   "cell_type": "code",
   "execution_count": 10,
   "metadata": {},
   "outputs": [],
   "source": [
    "p = np.random.uniform(low=f.lowerbound[0],high=f.upperbound[0], size=(5,f.number_of_variables))"
   ]
  },
  {
   "cell_type": "code",
   "execution_count": 30,
   "metadata": {},
   "outputs": [
    {
     "data": {
      "text/plain": [
       "array([ 83.37451803,  91.17468502,  83.40137455, 109.2571958 ,\n",
       "        79.68275551])"
      ]
     },
     "execution_count": 30,
     "metadata": {},
     "output_type": "execute_result"
    }
   ],
   "source": [
    "np.apply_along_axis(f, 1, p)"
   ]
  },
  {
   "cell_type": "code",
   "execution_count": 32,
   "metadata": {},
   "outputs": [],
   "source": [
    "p = dotdict()"
   ]
  },
  {
   "cell_type": "code",
   "execution_count": 39,
   "metadata": {},
   "outputs": [],
   "source": [
    "p = [dotdict({'individual':[0.12, -4.54], 'strategy':[0.1, 32]}), \n",
    "     dotdict({'individual':[3.12, -1.54], 'strategy':[0.3, 2]})]"
   ]
  },
  {
   "cell_type": "code",
   "execution_count": 40,
   "metadata": {},
   "outputs": [
    {
     "data": {
      "text/plain": [
       "[{'individual': [0.12, -4.54], 'strategy': [0.1, 32]},\n",
       " {'individual': [3.12, -1.54], 'strategy': [0.3, 2]}]"
      ]
     },
     "execution_count": 40,
     "metadata": {},
     "output_type": "execute_result"
    }
   ],
   "source": [
    "p"
   ]
  },
  {
   "cell_type": "code",
   "execution_count": 42,
   "metadata": {},
   "outputs": [
    {
     "data": {
      "text/plain": [
       "[0.12, -4.54]"
      ]
     },
     "execution_count": 42,
     "metadata": {},
     "output_type": "execute_result"
    }
   ],
   "source": [
    "p[0].individual"
   ]
  },
  {
   "cell_type": "code",
   "execution_count": 43,
   "metadata": {},
   "outputs": [
    {
     "data": {
      "text/plain": [
       "[0.1, 32]"
      ]
     },
     "execution_count": 43,
     "metadata": {},
     "output_type": "execute_result"
    }
   ],
   "source": [
    "p[0].strategy"
   ]
  },
  {
   "cell_type": "code",
   "execution_count": 56,
   "metadata": {},
   "outputs": [
    {
     "data": {
      "text/plain": [
       "27"
      ]
     },
     "execution_count": 56,
     "metadata": {},
     "output_type": "execute_result"
    }
   ],
   "source": [
    "np.random.choice(50)"
   ]
  },
  {
   "cell_type": "code",
   "execution_count": 11,
   "metadata": {},
   "outputs": [],
   "source": [
    "P1 = np.random.uniform(low=f.lowerbound[0],high=f.upperbound[0], size=(5, 2))\n",
    "\n",
    "P2 = np.random.uniform(low=f.lowerbound[0],high=f.upperbound[0], size=(5, 2))"
   ]
  },
  {
   "cell_type": "code",
   "execution_count": 12,
   "metadata": {},
   "outputs": [
    {
     "data": {
      "text/plain": [
       "(array([[-0.61427755, -4.40322103],\n",
       "        [-1.01955745,  2.37995406],\n",
       "        [-3.1750827 , -3.24548244],\n",
       "        [ 0.31551374,  0.31827587],\n",
       "        [ 1.34400959,  3.49431794]]),\n",
       " array([[ 2.24455325,  1.11023511],\n",
       "        [ 2.22443383, -1.77041086],\n",
       "        [-1.38211344, -2.71736769],\n",
       "        [-2.06285954,  1.30976124],\n",
       "        [-4.0789506 , -0.66298827]]))"
      ]
     },
     "execution_count": 12,
     "metadata": {},
     "output_type": "execute_result"
    }
   ],
   "source": [
    "P1, P2"
   ]
  },
  {
   "cell_type": "code",
   "execution_count": 87,
   "metadata": {},
   "outputs": [
    {
     "data": {
      "text/plain": [
       "array([[-1.36895933,  3.54972816],\n",
       "       [ 2.11391802, -1.07055589],\n",
       "       [-2.68698519, -1.19825286],\n",
       "       [ 0.49162103,  0.56719065],\n",
       "       [-4.95865357,  1.38022518],\n",
       "       [-4.42351985, -4.56973093],\n",
       "       [ 3.75051134, -2.07412396],\n",
       "       [ 2.62767659, -1.3213474 ],\n",
       "       [ 3.73502266, -4.70576266],\n",
       "       [ 0.52043722, -2.59752496]])"
      ]
     },
     "execution_count": 87,
     "metadata": {},
     "output_type": "execute_result"
    }
   ],
   "source": [
    "np.append(P1,P2, axis=0)"
   ]
  },
  {
   "cell_type": "code",
   "execution_count": 70,
   "metadata": {},
   "outputs": [
    {
     "name": "stdout",
     "output_type": "stream",
     "text": [
      "[-2.65487125  4.87995287] [3.898657   2.50378705]\n"
     ]
    }
   ],
   "source": [
    "parent1 = P[np.random.choice(5)]\n",
    "parent2 = P[np.random.choice(5)]\n",
    "print(parent1, parent2)"
   ]
  },
  {
   "cell_type": "code",
   "execution_count": 71,
   "metadata": {},
   "outputs": [
    {
     "data": {
      "text/plain": [
       "array([0.62189287, 3.69186996])"
      ]
     },
     "execution_count": 71,
     "metadata": {},
     "output_type": "execute_result"
    }
   ],
   "source": [
    "offspring = np.mean((parent1, parent2), axis=0)\n",
    "offspring"
   ]
  },
  {
   "cell_type": "code",
   "execution_count": 72,
   "metadata": {},
   "outputs": [
    {
     "data": {
      "text/plain": [
       "0.6218928750000001"
      ]
     },
     "execution_count": 72,
     "metadata": {},
     "output_type": "execute_result"
    }
   ],
   "source": [
    "(-2.65487125 + 3.898657)/2"
   ]
  },
  {
   "cell_type": "code",
   "execution_count": 88,
   "metadata": {},
   "outputs": [
    {
     "data": {
      "text/plain": [
       "array([[-1.36895933,  3.54972816],\n",
       "       [ 2.11391802, -1.07055589],\n",
       "       [-2.68698519, -1.19825286],\n",
       "       [ 0.49162103,  0.56719065],\n",
       "       [-4.95865357,  1.38022518]])"
      ]
     },
     "execution_count": 88,
     "metadata": {},
     "output_type": "execute_result"
    }
   ],
   "source": [
    "P1"
   ]
  },
  {
   "cell_type": "code",
   "execution_count": 14,
   "metadata": {},
   "outputs": [
    {
     "data": {
      "text/plain": [
       "array([-0.62987887, -0.29123112])"
      ]
     },
     "execution_count": 14,
     "metadata": {},
     "output_type": "execute_result"
    }
   ],
   "source": [
    "np.mean(P1, axis=0)"
   ]
  },
  {
   "cell_type": "code",
   "execution_count": 33,
   "metadata": {},
   "outputs": [
    {
     "name": "stdout",
     "output_type": "stream",
     "text": [
      "offspring:BM  [-0.62987887 -0.29123112]\n",
      "of_i  -0.6298788742865694\n",
      "of_i A -0.9078071200033817\n",
      "of_i  -0.2912311206724956\n",
      "of_i A -3.0270264050822786\n",
      "offspring:AM  [-0.90780712 -3.02702641]\n",
      "\n",
      "offspring:BM  [-0.62987887 -0.29123112]\n",
      "of_i  -0.6298788742865694\n",
      "of_i A -4.702772036610446\n",
      "of_i  -0.2912311206724956\n",
      "of_i A 5.78416769114114\n",
      "offspring:AM  [-4.70277204  5.78416769]\n",
      "\n",
      "offspring:BM  [-0.62987887 -0.29123112]\n",
      "of_i  -0.6298788742865694\n",
      "of_i A -3.1541294143336938\n",
      "of_i  -0.2912311206724956\n",
      "of_i A -2.489935101192668\n",
      "offspring:AM  [-3.15412941 -2.4899351 ]\n",
      "\n"
     ]
    }
   ],
   "source": [
    "npop=2\n",
    "lamda = 3\n",
    "n = f.number_of_variables\n",
    "sigmas = [[(f.upperbound[0]-f.lowerbound[0])/6]*n]*lamda\n",
    "tao_prime = 1/np.sqrt(2*n) # global learning rate\n",
    "tao_0 = 1/np.sqrt(2*np.sqrt(n)) # local learning rate\n",
    "N_tao_prime = np.random.normal(0, tao_prime)\n",
    "\n",
    "for j, sigma in enumerate(sigmas):\n",
    "    offspring = np.mean(P1, axis=0)\n",
    "    print(\"offspring:BM \",offspring)\n",
    "    sigma_prime = []\n",
    "    for i, sigma_i in enumerate(sigma):\n",
    "        sigma_i_prime = sigma_i * np.exp(N_tao_prime + np.random.normal(0, tao_0))\n",
    "        print(\"of_i \", offspring[i])\n",
    "        offspring[i] = offspring[i] + np.random.normal(0, sigma_i_prime) \n",
    "        print(\"of_i A\", offspring[i])\n",
    "        sigma_prime.append(sigma_i_prime)\n",
    "    \n",
    "    x_i_prime = offspring\n",
    "    print(\"offspring:AM \",offspring)\n",
    "    print()"
   ]
  },
  {
   "cell_type": "code",
   "execution_count": 91,
   "metadata": {},
   "outputs": [
    {
     "data": {
      "text/plain": [
       "0.7071067811865475"
      ]
     },
     "execution_count": 91,
     "metadata": {},
     "output_type": "execute_result"
    }
   ],
   "source": [
    "lr = 1/np.sqrt(2)\n",
    "lr"
   ]
  },
  {
   "cell_type": "code",
   "execution_count": 98,
   "metadata": {},
   "outputs": [
    {
     "data": {
      "text/plain": [
       "2.038795352227467"
      ]
     },
     "execution_count": 98,
     "metadata": {},
     "output_type": "execute_result"
    }
   ],
   "source": [
    "np.exp(np.random.normal(0, lr))"
   ]
  },
  {
   "cell_type": "code",
   "execution_count": 97,
   "metadata": {},
   "outputs": [
    {
     "data": {
      "text/plain": [
       "0.9174369416643127"
      ]
     },
     "execution_count": 97,
     "metadata": {},
     "output_type": "execute_result"
    }
   ],
   "source": [
    "np.random.normal(0, lr)"
   ]
  },
  {
   "cell_type": "code",
   "execution_count": null,
   "metadata": {},
   "outputs": [],
   "source": []
  },
  {
   "cell_type": "code",
   "execution_count": 99,
   "metadata": {},
   "outputs": [],
   "source": [
    "import heapq"
   ]
  },
  {
   "cell_type": "code",
   "execution_count": 103,
   "metadata": {},
   "outputs": [
    {
     "data": {
      "text/plain": [
       "array([[-1.36895933,  3.54972816],\n",
       "       [ 2.11391802, -1.07055589],\n",
       "       [-2.68698519, -1.19825286],\n",
       "       [ 0.49162103,  0.56719065],\n",
       "       [-4.95865357,  1.38022518]])"
      ]
     },
     "execution_count": 103,
     "metadata": {},
     "output_type": "execute_result"
    }
   ],
   "source": [
    "P1"
   ]
  },
  {
   "cell_type": "code",
   "execution_count": 104,
   "metadata": {},
   "outputs": [
    {
     "data": {
      "text/plain": [
       "array([104.26151062,  82.95119832,  88.12405528,  82.50917923,\n",
       "       113.0757451 ])"
      ]
     },
     "execution_count": 104,
     "metadata": {},
     "output_type": "execute_result"
    }
   ],
   "source": [
    "f1 = np.apply_along_axis(f, 1, P1)\n",
    "f1"
   ]
  },
  {
   "cell_type": "code",
   "execution_count": 105,
   "metadata": {},
   "outputs": [
    {
     "data": {
      "text/plain": [
       "[113.07574509619684, 104.26151062275416, 88.12405528432528]"
      ]
     },
     "execution_count": 105,
     "metadata": {},
     "output_type": "execute_result"
    }
   ],
   "source": [
    "heapq.nlargest(3, f1)"
   ]
  },
  {
   "cell_type": "code",
   "execution_count": 111,
   "metadata": {},
   "outputs": [
    {
     "data": {
      "text/plain": [
       "array([4, 0, 2])"
      ]
     },
     "execution_count": 111,
     "metadata": {},
     "output_type": "execute_result"
    }
   ],
   "source": [
    "sorter = np.argsort(f1)\n",
    "sorter[np.searchsorted(f1, heapq.nlargest(3, f1), sorter=sorter)]"
   ]
  },
  {
   "cell_type": "code",
   "execution_count": 110,
   "metadata": {},
   "outputs": [
    {
     "data": {
      "text/plain": [
       "array([3, 1, 0])"
      ]
     },
     "execution_count": 110,
     "metadata": {},
     "output_type": "execute_result"
    }
   ],
   "source": [
    "a = np.array([1, 2, 4])\n",
    "b = np.array([4, 2, 3, 1])\n",
    "sorter = np.argsort(b)\n",
    "sorter[np.searchsorted(b, a, sorter=sorter)]"
   ]
  },
  {
   "cell_type": "code",
   "execution_count": 112,
   "metadata": {},
   "outputs": [
    {
     "data": {
      "text/plain": [
       "array([1, 2, 4])"
      ]
     },
     "execution_count": 112,
     "metadata": {},
     "output_type": "execute_result"
    }
   ],
   "source": [
    "b[[3,1,0]]"
   ]
  },
  {
   "cell_type": "code",
   "execution_count": 120,
   "metadata": {},
   "outputs": [],
   "source": [
    "n = f.number_of_variables"
   ]
  },
  {
   "cell_type": "code",
   "execution_count": 145,
   "metadata": {},
   "outputs": [],
   "source": [
    "n = 3\n",
    "beta = np.pi/36"
   ]
  },
  {
   "cell_type": "code",
   "execution_count": 147,
   "metadata": {},
   "outputs": [
    {
     "data": {
      "text/plain": [
       "array([-1.13872413,  1.20618494,  0.34170004])"
      ]
     },
     "execution_count": 147,
     "metadata": {},
     "output_type": "execute_result"
    }
   ],
   "source": [
    "alphas = np.random.uniform(low=-np.pi, high=np.pi, size=int(n*(n-1)/2))\n",
    "alphas"
   ]
  },
  {
   "cell_type": "code",
   "execution_count": 150,
   "metadata": {},
   "outputs": [
    {
     "data": {
      "text/plain": [
       "array([-0.00582568, -0.01361914,  0.13818337])"
      ]
     },
     "execution_count": 150,
     "metadata": {},
     "output_type": "execute_result"
    }
   ],
   "source": [
    "samples = np.random.normal(0, beta, size=int(n*(n-1)/2))\n",
    "samples"
   ]
  },
  {
   "cell_type": "code",
   "execution_count": 151,
   "metadata": {},
   "outputs": [
    {
     "data": {
      "text/plain": [
       "array([-1.14454981,  1.1925658 ,  0.4798834 ])"
      ]
     },
     "execution_count": 151,
     "metadata": {},
     "output_type": "execute_result"
    }
   ],
   "source": [
    "alphas + samples"
   ]
  },
  {
   "cell_type": "code",
   "execution_count": 158,
   "metadata": {},
   "outputs": [],
   "source": [
    "func = lambda x: x - 1"
   ]
  },
  {
   "cell_type": "code",
   "execution_count": 159,
   "metadata": {},
   "outputs": [
    {
     "data": {
      "text/plain": [
       "array([-2.14454981,  0.1925658 , -0.5201166 ])"
      ]
     },
     "execution_count": 159,
     "metadata": {},
     "output_type": "execute_result"
    }
   ],
   "source": [
    "np.apply_along_axis(func, 0, alphas + samples)"
   ]
  },
  {
   "cell_type": "code",
   "execution_count": 167,
   "metadata": {},
   "outputs": [],
   "source": [
    "func2 = lambda x: x - 2*np.pi*(x/np.abs(x)) if np.abs(x) > np.pi else x"
   ]
  },
  {
   "cell_type": "code",
   "execution_count": 168,
   "metadata": {},
   "outputs": [
    {
     "data": {
      "text/plain": [
       "-2.7831853071795862"
      ]
     },
     "execution_count": 168,
     "metadata": {},
     "output_type": "execute_result"
    }
   ],
   "source": [
    "func2(3.5)"
   ]
  },
  {
   "cell_type": "code",
   "execution_count": 169,
   "metadata": {},
   "outputs": [
    {
     "data": {
      "text/plain": [
       "3.141592653589793"
      ]
     },
     "execution_count": 169,
     "metadata": {},
     "output_type": "execute_result"
    }
   ],
   "source": [
    "np.pi"
   ]
  },
  {
   "cell_type": "code",
   "execution_count": 180,
   "metadata": {},
   "outputs": [
    {
     "data": {
      "text/plain": [
       "True"
      ]
     },
     "execution_count": 180,
     "metadata": {},
     "output_type": "execute_result"
    }
   ],
   "source": [
    "np.abs(3.5) > np.pi"
   ]
  },
  {
   "cell_type": "code",
   "execution_count": 181,
   "metadata": {},
   "outputs": [
    {
     "data": {
      "text/plain": [
       "-18.491148575128552"
      ]
     },
     "execution_count": 181,
     "metadata": {},
     "output_type": "execute_result"
    }
   ],
   "source": [
    "3.5 - 2*np.pi*3.5"
   ]
  },
  {
   "cell_type": "code",
   "execution_count": 189,
   "metadata": {},
   "outputs": [
    {
     "data": {
      "text/plain": [
       "True"
      ]
     },
     "execution_count": 189,
     "metadata": {},
     "output_type": "execute_result"
    }
   ],
   "source": [
    "(np.abs(-3.5) > np.pi).any()"
   ]
  },
  {
   "cell_type": "code",
   "execution_count": 191,
   "metadata": {},
   "outputs": [
    {
     "data": {
      "text/plain": [
       "array([[1., 0., 0., 0., 0.],\n",
       "       [0., 1., 0., 0., 0.],\n",
       "       [0., 0., 1., 0., 0.],\n",
       "       [0., 0., 0., 1., 0.],\n",
       "       [0., 0., 0., 0., 1.]])"
      ]
     },
     "execution_count": 191,
     "metadata": {},
     "output_type": "execute_result"
    }
   ],
   "source": [
    "i = np.identity(5)\n",
    "i"
   ]
  },
  {
   "cell_type": "code",
   "execution_count": 192,
   "metadata": {},
   "outputs": [
    {
     "data": {
      "text/plain": [
       "array([1, 2, 3, 4, 5])"
      ]
     },
     "execution_count": 192,
     "metadata": {},
     "output_type": "execute_result"
    }
   ],
   "source": [
    "s = np.array([1, 2, 3, 4, 5])\n",
    "s"
   ]
  },
  {
   "cell_type": "code",
   "execution_count": 194,
   "metadata": {},
   "outputs": [
    {
     "data": {
      "text/plain": [
       "array([ 1,  4,  9, 16, 25])"
      ]
     },
     "execution_count": 194,
     "metadata": {},
     "output_type": "execute_result"
    }
   ],
   "source": [
    "s2 = s**2\n",
    "s2"
   ]
  },
  {
   "cell_type": "code",
   "execution_count": 195,
   "metadata": {},
   "outputs": [
    {
     "data": {
      "text/plain": [
       "array([[ 1.,  0.,  0.,  0.,  0.],\n",
       "       [ 0.,  4.,  0.,  0.,  0.],\n",
       "       [ 0.,  0.,  9.,  0.,  0.],\n",
       "       [ 0.,  0.,  0., 16.,  0.],\n",
       "       [ 0.,  0.,  0.,  0., 25.]])"
      ]
     },
     "execution_count": 195,
     "metadata": {},
     "output_type": "execute_result"
    }
   ],
   "source": [
    "i*s2"
   ]
  },
  {
   "cell_type": "code",
   "execution_count": 1,
   "metadata": {},
   "outputs": [],
   "source": [
    "import pandas as pd\n",
    "import numpy as np"
   ]
  },
  {
   "cell_type": "code",
   "execution_count": 2,
   "metadata": {},
   "outputs": [],
   "source": [
    "df = pd.read_csv(\"Results-ALL/Overview-All-.csv\")"
   ]
  },
  {
   "cell_type": "code",
   "execution_count": 11,
   "metadata": {},
   "outputs": [
    {
     "data": {
      "text/html": [
       "<div>\n",
       "<style scoped>\n",
       "    .dataframe tbody tr th:only-of-type {\n",
       "        vertical-align: middle;\n",
       "    }\n",
       "\n",
       "    .dataframe tbody tr th {\n",
       "        vertical-align: top;\n",
       "    }\n",
       "\n",
       "    .dataframe thead th {\n",
       "        text-align: right;\n",
       "    }\n",
       "</style>\n",
       "<table border=\"1\" class=\"dataframe\">\n",
       "  <thead>\n",
       "    <tr style=\"text-align: right;\">\n",
       "      <th></th>\n",
       "      <th>DIM</th>\n",
       "      <th>funcId</th>\n",
       "      <th>best reached</th>\n",
       "      <th>mean reached</th>\n",
       "      <th>budget</th>\n",
       "      <th>worst recorded</th>\n",
       "      <th>worst reached</th>\n",
       "    </tr>\n",
       "  </thead>\n",
       "  <tbody>\n",
       "    <tr>\n",
       "      <th>0</th>\n",
       "      <td>2</td>\n",
       "      <td>1</td>\n",
       "      <td>4.200000e-06</td>\n",
       "      <td>0.18</td>\n",
       "      <td>20050</td>\n",
       "      <td>8.600000e+01</td>\n",
       "      <td>2.1</td>\n",
       "    </tr>\n",
       "    <tr>\n",
       "      <th>1</th>\n",
       "      <td>2</td>\n",
       "      <td>2</td>\n",
       "      <td>1.400000e-03</td>\n",
       "      <td>1500.00</td>\n",
       "      <td>20050</td>\n",
       "      <td>7.100000e+07</td>\n",
       "      <td>44000.0</td>\n",
       "    </tr>\n",
       "    <tr>\n",
       "      <th>2</th>\n",
       "      <td>2</td>\n",
       "      <td>3</td>\n",
       "      <td>2.300000e-03</td>\n",
       "      <td>6.40</td>\n",
       "      <td>20050</td>\n",
       "      <td>6.900000e+03</td>\n",
       "      <td>26.0</td>\n",
       "    </tr>\n",
       "    <tr>\n",
       "      <th>3</th>\n",
       "      <td>2</td>\n",
       "      <td>4</td>\n",
       "      <td>4.500000e-02</td>\n",
       "      <td>7.10</td>\n",
       "      <td>20050</td>\n",
       "      <td>1.400000e+03</td>\n",
       "      <td>24.0</td>\n",
       "    </tr>\n",
       "    <tr>\n",
       "      <th>4</th>\n",
       "      <td>2</td>\n",
       "      <td>5</td>\n",
       "      <td>-3.300000e+02</td>\n",
       "      <td>-35.00</td>\n",
       "      <td>20050</td>\n",
       "      <td>1.100000e+02</td>\n",
       "      <td>8.0</td>\n",
       "    </tr>\n",
       "    <tr>\n",
       "      <th>5</th>\n",
       "      <td>2</td>\n",
       "      <td>6</td>\n",
       "      <td>8.600000e-05</td>\n",
       "      <td>8.40</td>\n",
       "      <td>20050</td>\n",
       "      <td>2.000000e+06</td>\n",
       "      <td>1000.0</td>\n",
       "    </tr>\n",
       "    <tr>\n",
       "      <th>6</th>\n",
       "      <td>2</td>\n",
       "      <td>7</td>\n",
       "      <td>6.200000e-09</td>\n",
       "      <td>1.10</td>\n",
       "      <td>20050</td>\n",
       "      <td>7.300000e+03</td>\n",
       "      <td>12.0</td>\n",
       "    </tr>\n",
       "    <tr>\n",
       "      <th>7</th>\n",
       "      <td>2</td>\n",
       "      <td>8</td>\n",
       "      <td>1.700000e-04</td>\n",
       "      <td>1.50</td>\n",
       "      <td>20050</td>\n",
       "      <td>6.000000e+05</td>\n",
       "      <td>42.0</td>\n",
       "    </tr>\n",
       "    <tr>\n",
       "      <th>8</th>\n",
       "      <td>2</td>\n",
       "      <td>9</td>\n",
       "      <td>5.500000e-05</td>\n",
       "      <td>0.77</td>\n",
       "      <td>20050</td>\n",
       "      <td>1.400000e+05</td>\n",
       "      <td>22.0</td>\n",
       "    </tr>\n",
       "    <tr>\n",
       "      <th>9</th>\n",
       "      <td>2</td>\n",
       "      <td>10</td>\n",
       "      <td>2.500000e-02</td>\n",
       "      <td>1200.00</td>\n",
       "      <td>20050</td>\n",
       "      <td>7.000000e+07</td>\n",
       "      <td>35000.0</td>\n",
       "    </tr>\n",
       "    <tr>\n",
       "      <th>10</th>\n",
       "      <td>2</td>\n",
       "      <td>11</td>\n",
       "      <td>4.300000e-02</td>\n",
       "      <td>1300.00</td>\n",
       "      <td>20050</td>\n",
       "      <td>7.500000e+07</td>\n",
       "      <td>38000.0</td>\n",
       "    </tr>\n",
       "    <tr>\n",
       "      <th>11</th>\n",
       "      <td>2</td>\n",
       "      <td>12</td>\n",
       "      <td>2.300000e-02</td>\n",
       "      <td>8600.00</td>\n",
       "      <td>20050</td>\n",
       "      <td>9.400000e+10</td>\n",
       "      <td>860000.0</td>\n",
       "    </tr>\n",
       "    <tr>\n",
       "      <th>12</th>\n",
       "      <td>2</td>\n",
       "      <td>13</td>\n",
       "      <td>5.300000e-02</td>\n",
       "      <td>11.00</td>\n",
       "      <td>20050</td>\n",
       "      <td>2.200000e+03</td>\n",
       "      <td>70.0</td>\n",
       "    </tr>\n",
       "    <tr>\n",
       "      <th>13</th>\n",
       "      <td>2</td>\n",
       "      <td>14</td>\n",
       "      <td>4.700000e-05</td>\n",
       "      <td>0.19</td>\n",
       "      <td>20050</td>\n",
       "      <td>5.400000e+02</td>\n",
       "      <td>1.5</td>\n",
       "    </tr>\n",
       "    <tr>\n",
       "      <th>14</th>\n",
       "      <td>2</td>\n",
       "      <td>15</td>\n",
       "      <td>9.200000e-03</td>\n",
       "      <td>6.30</td>\n",
       "      <td>20050</td>\n",
       "      <td>8.000000e+03</td>\n",
       "      <td>23.0</td>\n",
       "    </tr>\n",
       "    <tr>\n",
       "      <th>15</th>\n",
       "      <td>2</td>\n",
       "      <td>16</td>\n",
       "      <td>5.700000e-03</td>\n",
       "      <td>0.93</td>\n",
       "      <td>20050</td>\n",
       "      <td>3.600000e+02</td>\n",
       "      <td>9.2</td>\n",
       "    </tr>\n",
       "    <tr>\n",
       "      <th>16</th>\n",
       "      <td>2</td>\n",
       "      <td>17</td>\n",
       "      <td>4.300000e-03</td>\n",
       "      <td>1.10</td>\n",
       "      <td>20050</td>\n",
       "      <td>8.400000e+02</td>\n",
       "      <td>5.0</td>\n",
       "    </tr>\n",
       "    <tr>\n",
       "      <th>17</th>\n",
       "      <td>2</td>\n",
       "      <td>18</td>\n",
       "      <td>8.900000e-03</td>\n",
       "      <td>4.30</td>\n",
       "      <td>20050</td>\n",
       "      <td>2.100000e+04</td>\n",
       "      <td>34.0</td>\n",
       "    </tr>\n",
       "    <tr>\n",
       "      <th>18</th>\n",
       "      <td>2</td>\n",
       "      <td>19</td>\n",
       "      <td>4.900000e-07</td>\n",
       "      <td>0.12</td>\n",
       "      <td>20050</td>\n",
       "      <td>3.300000e+02</td>\n",
       "      <td>2.0</td>\n",
       "    </tr>\n",
       "    <tr>\n",
       "      <th>19</th>\n",
       "      <td>2</td>\n",
       "      <td>20</td>\n",
       "      <td>1.700000e-03</td>\n",
       "      <td>1.50</td>\n",
       "      <td>20050</td>\n",
       "      <td>2.000000e+05</td>\n",
       "      <td>4.8</td>\n",
       "    </tr>\n",
       "    <tr>\n",
       "      <th>20</th>\n",
       "      <td>2</td>\n",
       "      <td>21</td>\n",
       "      <td>5.400000e-10</td>\n",
       "      <td>0.20</td>\n",
       "      <td>20050</td>\n",
       "      <td>6.600000e+01</td>\n",
       "      <td>2.1</td>\n",
       "    </tr>\n",
       "    <tr>\n",
       "      <th>21</th>\n",
       "      <td>2</td>\n",
       "      <td>22</td>\n",
       "      <td>1.500000e-08</td>\n",
       "      <td>0.22</td>\n",
       "      <td>20050</td>\n",
       "      <td>8.200000e+01</td>\n",
       "      <td>6.1</td>\n",
       "    </tr>\n",
       "    <tr>\n",
       "      <th>22</th>\n",
       "      <td>2</td>\n",
       "      <td>23</td>\n",
       "      <td>1.500000e-01</td>\n",
       "      <td>1.80</td>\n",
       "      <td>20050</td>\n",
       "      <td>7.800000e+01</td>\n",
       "      <td>5.2</td>\n",
       "    </tr>\n",
       "    <tr>\n",
       "      <th>23</th>\n",
       "      <td>2</td>\n",
       "      <td>24</td>\n",
       "      <td>1.300000e-01</td>\n",
       "      <td>3.50</td>\n",
       "      <td>20050</td>\n",
       "      <td>8.700000e+01</td>\n",
       "      <td>10.0</td>\n",
       "    </tr>\n",
       "  </tbody>\n",
       "</table>\n",
       "</div>"
      ],
      "text/plain": [
       "    DIM  funcId  best reached  mean reached  budget  worst recorded  \\\n",
       "0     2       1  4.200000e-06          0.18   20050    8.600000e+01   \n",
       "1     2       2  1.400000e-03       1500.00   20050    7.100000e+07   \n",
       "2     2       3  2.300000e-03          6.40   20050    6.900000e+03   \n",
       "3     2       4  4.500000e-02          7.10   20050    1.400000e+03   \n",
       "4     2       5 -3.300000e+02        -35.00   20050    1.100000e+02   \n",
       "5     2       6  8.600000e-05          8.40   20050    2.000000e+06   \n",
       "6     2       7  6.200000e-09          1.10   20050    7.300000e+03   \n",
       "7     2       8  1.700000e-04          1.50   20050    6.000000e+05   \n",
       "8     2       9  5.500000e-05          0.77   20050    1.400000e+05   \n",
       "9     2      10  2.500000e-02       1200.00   20050    7.000000e+07   \n",
       "10    2      11  4.300000e-02       1300.00   20050    7.500000e+07   \n",
       "11    2      12  2.300000e-02       8600.00   20050    9.400000e+10   \n",
       "12    2      13  5.300000e-02         11.00   20050    2.200000e+03   \n",
       "13    2      14  4.700000e-05          0.19   20050    5.400000e+02   \n",
       "14    2      15  9.200000e-03          6.30   20050    8.000000e+03   \n",
       "15    2      16  5.700000e-03          0.93   20050    3.600000e+02   \n",
       "16    2      17  4.300000e-03          1.10   20050    8.400000e+02   \n",
       "17    2      18  8.900000e-03          4.30   20050    2.100000e+04   \n",
       "18    2      19  4.900000e-07          0.12   20050    3.300000e+02   \n",
       "19    2      20  1.700000e-03          1.50   20050    2.000000e+05   \n",
       "20    2      21  5.400000e-10          0.20   20050    6.600000e+01   \n",
       "21    2      22  1.500000e-08          0.22   20050    8.200000e+01   \n",
       "22    2      23  1.500000e-01          1.80   20050    7.800000e+01   \n",
       "23    2      24  1.300000e-01          3.50   20050    8.700000e+01   \n",
       "\n",
       "    worst reached  \n",
       "0             2.1  \n",
       "1         44000.0  \n",
       "2            26.0  \n",
       "3            24.0  \n",
       "4             8.0  \n",
       "5          1000.0  \n",
       "6            12.0  \n",
       "7            42.0  \n",
       "8            22.0  \n",
       "9         35000.0  \n",
       "10        38000.0  \n",
       "11       860000.0  \n",
       "12           70.0  \n",
       "13            1.5  \n",
       "14           23.0  \n",
       "15            9.2  \n",
       "16            5.0  \n",
       "17           34.0  \n",
       "18            2.0  \n",
       "19            4.8  \n",
       "20            2.1  \n",
       "21            6.1  \n",
       "22            5.2  \n",
       "23           10.0  "
      ]
     },
     "execution_count": 11,
     "metadata": {},
     "output_type": "execute_result"
    }
   ],
   "source": [
    "df[df.DIM == 2]"
   ]
  },
  {
   "cell_type": "code",
   "execution_count": 22,
   "metadata": {},
   "outputs": [],
   "source": []
  },
  {
   "cell_type": "code",
   "execution_count": 23,
   "metadata": {},
   "outputs": [
    {
     "data": {
      "text/plain": [
       "350"
      ]
     },
     "execution_count": 23,
     "metadata": {},
     "output_type": "execute_result"
    }
   ],
   "source": [
    "len(sigmas)"
   ]
  },
  {
   "cell_type": "code",
   "execution_count": 24,
   "metadata": {},
   "outputs": [
    {
     "data": {
      "text/plain": [
       "2"
      ]
     },
     "execution_count": 24,
     "metadata": {},
     "output_type": "execute_result"
    }
   ],
   "source": [
    "n"
   ]
  },
  {
   "cell_type": "code",
   "execution_count": 36,
   "metadata": {},
   "outputs": [
    {
     "data": {
      "text/plain": [
       "[[1.6666666666666667, 1.6666666666666667],\n",
       " [1.6666666666666667, 1.6666666666666667],\n",
       " [1.6666666666666667, 1.6666666666666667]]"
      ]
     },
     "execution_count": 36,
     "metadata": {},
     "output_type": "execute_result"
    }
   ],
   "source": [
    "sigmas"
   ]
  },
  {
   "cell_type": "code",
   "execution_count": 34,
   "metadata": {},
   "outputs": [],
   "source": [
    "sigmas_prime = [[sigma_i * np.exp(N_tao_prime + np.random.normal(0, tao_0)) for sigma_i in sigma] for sigma in sigmas]"
   ]
  },
  {
   "cell_type": "code",
   "execution_count": 35,
   "metadata": {},
   "outputs": [
    {
     "data": {
      "text/plain": [
       "[[9.695813532249218, 3.0909129789324044],\n",
       " [5.554483706613072, 1.3193208970286958],\n",
       " [3.1215613249164478, 5.646580091042263]]"
      ]
     },
     "execution_count": 35,
     "metadata": {},
     "output_type": "execute_result"
    }
   ],
   "source": [
    "sigmas_prime"
   ]
  },
  {
   "cell_type": "code",
   "execution_count": null,
   "metadata": {},
   "outputs": [],
   "source": []
  }
 ],
 "metadata": {
  "kernelspec": {
   "display_name": "ea",
   "language": "python",
   "name": "ea"
  },
  "language_info": {
   "codemirror_mode": {
    "name": "ipython",
    "version": 3
   },
   "file_extension": ".py",
   "mimetype": "text/x-python",
   "name": "python",
   "nbconvert_exporter": "python",
   "pygments_lexer": "ipython3",
   "version": "3.7.7"
  }
 },
 "nbformat": 4,
 "nbformat_minor": 4
}